{
 "cells": [
  {
   "cell_type": "markdown",
   "id": "80db80d5",
   "metadata": {},
   "source": [
    "# Trabajo Semanal 2\n",
    "### Renata Salvati Dávila\n",
    "***"
   ]
  },
  {
   "cell_type": "markdown",
   "id": "98d8f1fc",
   "metadata": {},
   "source": [
    "<img src=\"./Circuito.png\" align=\"center\" /> "
   ]
  },
  {
   "cell_type": "markdown",
   "id": "234a91e9",
   "metadata": {},
   "source": [
    "**1. Obtener la función transferencia $\\frac{V_2}{V_1}$  en función de $\\omega_0$ y $Q$.**\n",
    "<img src=\"./Funcion Transferencia.jpeg\" align=\"center\" width=\"1000\" /> "
   ]
  },
  {
   "cell_type": "markdown",
   "id": "c774debe",
   "metadata": {},
   "source": [
    "**2.Obtener el valor de los componentes del circuito de forma tal que $\\omega_0 = 1$ y $Q = 3$**\n",
    "\n",
    "**3. Ajustar el valor de R1 de forma tal que |T(0)|=20dB**\n",
    "\n",
    "<img src=\"./Normalizacion.jpeg\" align=\"center\" width=\"1000\" /> "
   ]
  },
  {
   "cell_type": "markdown",
   "id": "d08044f9",
   "metadata": {},
   "source": [
    "### Simulación de la red normalizada\n",
    "\n",
    "<img src=\"./Circuito_.png\" align=\"center\" width=\"800\" /> \n",
    "<img src=\"./Simulación.png\" align=\"center\" width=\"1000\" /> \n",
    "\n",
    "### Simulación de la red normalizada de Butter\n",
    "\n",
    "<img src=\"./Circuito Butter.png\" align=\"center\" width=\"800\" /> \n",
    "<img src=\"./Simulación Butter.png\" align=\"center\" width=\"1000\" /> \n"
   ]
  }
 ],
 "metadata": {
  "kernelspec": {
   "display_name": "Python 3 (ipykernel)",
   "language": "python",
   "name": "python3"
  },
  "language_info": {
   "codemirror_mode": {
    "name": "ipython",
    "version": 3
   },
   "file_extension": ".py",
   "mimetype": "text/x-python",
   "name": "python",
   "nbconvert_exporter": "python",
   "pygments_lexer": "ipython3",
   "version": "3.10.6"
  }
 },
 "nbformat": 4,
 "nbformat_minor": 5
}
